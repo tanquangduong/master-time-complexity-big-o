{
 "cells": [
  {
   "cell_type": "markdown",
   "id": "0704ade0",
   "metadata": {},
   "source": [
    "# Constant time (O(1)) complexity\n",
    "\n",
    "If an algorithm takes the same amount of time to run, independent of the size of the input data, it is said to run in constant time. It is represented by O(1).\n",
    "- `push` and `pop` to a stack\n",
    "- Accessing the element of the hashtable\n",
    "- Bucket sort"
   ]
  },
  {
   "cell_type": "code",
   "execution_count": 1,
   "id": "b2acc047",
   "metadata": {},
   "outputs": [],
   "source": [
    "def getLast(myList):\n",
    "    return myList[-1]"
   ]
  },
  {
   "cell_type": "code",
   "execution_count": 2,
   "id": "fc44b5a9",
   "metadata": {},
   "outputs": [],
   "source": [
    "list_1 = [0, 1, 2, 3]\n",
    "list_2 = [0, 1, 2, 3, 4, 5, 6, 7, 8, 9]"
   ]
  },
  {
   "cell_type": "code",
   "execution_count": 3,
   "id": "14efe5c3",
   "metadata": {},
   "outputs": [
    {
     "data": {
      "text/plain": [
       "3"
      ]
     },
     "execution_count": 3,
     "metadata": {},
     "output_type": "execute_result"
    }
   ],
   "source": [
    "getLast(list_1)"
   ]
  },
  {
   "cell_type": "code",
   "execution_count": 4,
   "id": "7ec6439f",
   "metadata": {},
   "outputs": [
    {
     "data": {
      "text/plain": [
       "9"
      ]
     },
     "execution_count": 4,
     "metadata": {},
     "output_type": "execute_result"
    }
   ],
   "source": [
    "getLast(list_2)"
   ]
  },
  {
   "cell_type": "markdown",
   "id": "2485556a",
   "metadata": {},
   "source": [
    "# Linear time (O(n)) complexity\n",
    "An algorithm is said to have a complexity of linear time, represented by O(n), if the execution time is directly proportional to the size of the input.\n",
    "Example:\n",
    "- get sum of all elements in a list\n",
    "- Searching an element\n",
    "- Finding the minimum/maximum value amnog all the elements of an array"
   ]
  },
  {
   "cell_type": "code",
   "execution_count": 5,
   "id": "6a419196",
   "metadata": {},
   "outputs": [],
   "source": [
    "def getSum(myList):\n",
    "    sum = 0\n",
    "    for item in myList:\n",
    "        sum = sum + item\n",
    "    return sum"
   ]
  },
  {
   "cell_type": "code",
   "execution_count": 6,
   "id": "758aafb9",
   "metadata": {},
   "outputs": [],
   "source": [
    "list_1 = [0, 1, 2, 3]\n",
    "list_2 = [0, 1, 2, 3, 4, 5, 6, 7, 8, 9]"
   ]
  },
  {
   "cell_type": "code",
   "execution_count": 7,
   "id": "f3f6b4cc",
   "metadata": {},
   "outputs": [
    {
     "data": {
      "text/plain": [
       "6"
      ]
     },
     "execution_count": 7,
     "metadata": {},
     "output_type": "execute_result"
    }
   ],
   "source": [
    "getSum(list_1)"
   ]
  },
  {
   "cell_type": "code",
   "execution_count": 8,
   "id": "2fb39dc8",
   "metadata": {},
   "outputs": [
    {
     "data": {
      "text/plain": [
       "45"
      ]
     },
     "execution_count": 8,
     "metadata": {},
     "output_type": "execute_result"
    }
   ],
   "source": [
    "getSum(list_2)"
   ]
  },
  {
   "cell_type": "markdown",
   "id": "690d3808",
   "metadata": {},
   "source": [
    "# Quadratic time (O(n2)) complexity\n",
    "An algorithm is said to run in quadratic time if the execution time of an algorithm is proportional to the square of the input size; for example, \n",
    "- a simple function that sums up a two-dimensional array\n",
    "- bubble sort algorithm\n",
    "\n",
    "This is the worse case. It should not be used in the context of big data"
   ]
  },
  {
   "cell_type": "code",
   "execution_count": 9,
   "id": "4e9ccbf7",
   "metadata": {},
   "outputs": [],
   "source": [
    "def getSum2D(myList):\n",
    "    sum = 0\n",
    "    for row in myList:\n",
    "        for item in row:\n",
    "            sum += item\n",
    "    return sum"
   ]
  },
  {
   "cell_type": "code",
   "execution_count": 10,
   "id": "3e674027",
   "metadata": {},
   "outputs": [],
   "source": [
    "list_1 = [[1, 2, 3], [4, 5, 6]]\n",
    "list_2 = [[1, 2, 3, 4], [5, 6, 7, 8]]"
   ]
  },
  {
   "cell_type": "code",
   "execution_count": 11,
   "id": "339356bb",
   "metadata": {},
   "outputs": [
    {
     "data": {
      "text/plain": [
       "21"
      ]
     },
     "execution_count": 11,
     "metadata": {},
     "output_type": "execute_result"
    }
   ],
   "source": [
    "getSum2D(list_1)"
   ]
  },
  {
   "cell_type": "code",
   "execution_count": 12,
   "id": "a000249b",
   "metadata": {},
   "outputs": [
    {
     "data": {
      "text/plain": [
       "36"
      ]
     },
     "execution_count": 12,
     "metadata": {},
     "output_type": "execute_result"
    }
   ],
   "source": [
    "getSum2D(list_2)"
   ]
  },
  {
   "cell_type": "markdown",
   "id": "58d62804",
   "metadata": {},
   "source": [
    "# Logarithmic time (O(log(n))) complexity\n",
    "An algorithm is said to run in logarithmic time if the execution time of the algorithm is proportional to the logarithm of the input size. With each iteration, the input size decreases by a constant multiple factor. \n",
    "- binary search\n",
    "Normaly, this is the gold standard for algorithm performance. This is the best case"
   ]
  },
  {
   "cell_type": "code",
   "execution_count": 13,
   "id": "7129db32",
   "metadata": {},
   "outputs": [],
   "source": [
    "def searchBinary(myList,item):\n",
    "    first = 0\n",
    "    last = len(myList)-1\n",
    "    foundFlag = False\n",
    "    while( first<=last and not foundFlag):\n",
    "        mid = (first + last)//2\n",
    "        if myList[mid] == item :\n",
    "            foundFlag = True\n",
    "        else:\n",
    "            if item < myList[mid]:\n",
    "                last = mid - 1\n",
    "            else:\n",
    "                first = mid + 1\n",
    "    return foundFlag"
   ]
  },
  {
   "cell_type": "code",
   "execution_count": 14,
   "id": "421cbf86",
   "metadata": {},
   "outputs": [],
   "source": [
    "myList = [ 2, 4, 6, 8, 10, 100, 1000, 10000]"
   ]
  },
  {
   "cell_type": "code",
   "execution_count": 15,
   "id": "d8485256",
   "metadata": {},
   "outputs": [
    {
     "data": {
      "text/plain": [
       "True"
      ]
     },
     "execution_count": 15,
     "metadata": {},
     "output_type": "execute_result"
    }
   ],
   "source": [
    "searchBinary(myList, 6)"
   ]
  },
  {
   "cell_type": "code",
   "execution_count": 16,
   "id": "a045578f",
   "metadata": {},
   "outputs": [
    {
     "data": {
      "text/plain": [
       "False"
      ]
     },
     "execution_count": 16,
     "metadata": {},
     "output_type": "execute_result"
    }
   ],
   "source": [
    "searchBinary(myList, 5)"
   ]
  },
  {
   "cell_type": "markdown",
   "id": "2aa0d67f",
   "metadata": {},
   "source": [
    "# Traveling salsemain problem: O(log(n!))\n",
    "A traveling salesman challenges you to find the shortest route for a particular salesman that visits each city (from a list of cities) and then returns to the origin, which is why he is named the traveling salesman. The first attempt to provide the solution will include generating all the permutations of cities and choosing the combination of cities that is cheapest. The complexity of this approach to provide the solution is O(n!), where n is the number of cities. It is obvious that time complexity starts to become unmanageable beyond 30 cities."
   ]
  },
  {
   "cell_type": "code",
   "execution_count": null,
   "id": "5ba285e4",
   "metadata": {},
   "outputs": [],
   "source": []
  }
 ],
 "metadata": {
  "kernelspec": {
   "display_name": "Python 3 (ipykernel)",
   "language": "python",
   "name": "python3"
  },
  "language_info": {
   "codemirror_mode": {
    "name": "ipython",
    "version": 3
   },
   "file_extension": ".py",
   "mimetype": "text/x-python",
   "name": "python",
   "nbconvert_exporter": "python",
   "pygments_lexer": "ipython3",
   "version": "3.10.10"
  }
 },
 "nbformat": 4,
 "nbformat_minor": 5
}
